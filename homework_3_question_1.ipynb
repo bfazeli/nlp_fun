{
 "cells": [
  {
   "cell_type": "markdown",
   "source": [
    "### Pridicting Heart Disease"
   ],
   "metadata": {
    "collapsed": false
   }
  },
  {
   "cell_type": "markdown",
   "source": [
    "#### a) Read data file into a pandas DF "
   ],
   "metadata": {
    "collapsed": false,
    "pycharm": {
     "name": "#%% md\n"
    }
   }
  },
  {
   "cell_type": "code",
   "execution_count": 30,
   "outputs": [],
   "source": [
    "import pandas as pd\n",
    "\n",
    "df = pd.read_csv(\"https://github.com/mpourhoma/CS4661/raw/master/Heart_s.csv\")"
   ],
   "metadata": {
    "collapsed": false,
    "pycharm": {
     "name": "#%%\n",
     "is_executing": false
    }
   }
  },
  {
   "cell_type": "markdown",
   "source": [
    "#### b) Checking out data set"
   ],
   "metadata": {
    "collapsed": false,
    "pycharm": {
     "name": "#%% md\n"
    }
   }
  },
  {
   "cell_type": "code",
   "execution_count": 31,
   "outputs": [
    {
     "data": {
      "text/plain": "   Age Gender     ChestPain  RestBP  Chol  RestECG  MaxHR  Oldpeak  \\\n0   63      f       typical     145   233        2    150      2.3   \n1   67      f  asymptomatic     160   286        2    108      1.5   \n2   67      f  asymptomatic     120   229        2    129      2.6   \n3   37      f    nonanginal     130   250        0    187      3.5   \n4   41      m    nontypical     130   204        2    172      1.4   \n\n         Thal  AHD  \n0       fixed   No  \n1      normal  Yes  \n2  reversable  Yes  \n3      normal   No  \n4      normal   No  ",
      "text/html": "<div>\n<style scoped>\n    .dataframe tbody tr th:only-of-type {\n        vertical-align: middle;\n    }\n\n    .dataframe tbody tr th {\n        vertical-align: top;\n    }\n\n    .dataframe thead th {\n        text-align: right;\n    }\n</style>\n<table border=\"1\" class=\"dataframe\">\n  <thead>\n    <tr style=\"text-align: right;\">\n      <th></th>\n      <th>Age</th>\n      <th>Gender</th>\n      <th>ChestPain</th>\n      <th>RestBP</th>\n      <th>Chol</th>\n      <th>RestECG</th>\n      <th>MaxHR</th>\n      <th>Oldpeak</th>\n      <th>Thal</th>\n      <th>AHD</th>\n    </tr>\n  </thead>\n  <tbody>\n    <tr>\n      <th>0</th>\n      <td>63</td>\n      <td>f</td>\n      <td>typical</td>\n      <td>145</td>\n      <td>233</td>\n      <td>2</td>\n      <td>150</td>\n      <td>2.3</td>\n      <td>fixed</td>\n      <td>No</td>\n    </tr>\n    <tr>\n      <th>1</th>\n      <td>67</td>\n      <td>f</td>\n      <td>asymptomatic</td>\n      <td>160</td>\n      <td>286</td>\n      <td>2</td>\n      <td>108</td>\n      <td>1.5</td>\n      <td>normal</td>\n      <td>Yes</td>\n    </tr>\n    <tr>\n      <th>2</th>\n      <td>67</td>\n      <td>f</td>\n      <td>asymptomatic</td>\n      <td>120</td>\n      <td>229</td>\n      <td>2</td>\n      <td>129</td>\n      <td>2.6</td>\n      <td>reversable</td>\n      <td>Yes</td>\n    </tr>\n    <tr>\n      <th>3</th>\n      <td>37</td>\n      <td>f</td>\n      <td>nonanginal</td>\n      <td>130</td>\n      <td>250</td>\n      <td>0</td>\n      <td>187</td>\n      <td>3.5</td>\n      <td>normal</td>\n      <td>No</td>\n    </tr>\n    <tr>\n      <th>4</th>\n      <td>41</td>\n      <td>m</td>\n      <td>nontypical</td>\n      <td>130</td>\n      <td>204</td>\n      <td>2</td>\n      <td>172</td>\n      <td>1.4</td>\n      <td>normal</td>\n      <td>No</td>\n    </tr>\n  </tbody>\n</table>\n</div>"
     },
     "metadata": {},
     "output_type": "execute_result",
     "execution_count": 31
    }
   ],
   "source": [
    "df.head()"
   ],
   "metadata": {
    "collapsed": false,
    "pycharm": {
     "name": "#%%\n",
     "is_executing": false
    }
   }
  },
  {
   "cell_type": "markdown",
   "source": [
    "#### c) Ignore the categorical data and build feature + vector matrix"
   ],
   "metadata": {
    "collapsed": false,
    "pycharm": {
     "name": "#%% md\n"
    }
   }
  },
  {
   "cell_type": "code",
   "execution_count": 32,
   "outputs": [
    {
     "name": "stdout",
     "text": [
      "     Age  RestBP  Chol  RestECG  MaxHR  Oldpeak\n0     63     145   233        2    150      2.3\n1     67     160   286        2    108      1.5\n2     67     120   229        2    129      2.6\n3     37     130   250        0    187      3.5\n4     41     130   204        2    172      1.4\n5     56     120   236        0    178      0.8\n6     62     140   268        2    160      3.6\n7     57     120   354        0    163      0.6\n8     63     130   254        2    147      1.4\n9     53     140   203        2    155      3.1\n10    57     140   192        0    148      0.4\n11    56     140   294        2    153      1.3\n12    56     130   256        2    142      0.6\n13    44     120   263        0    173      0.0\n14    52     172   199        0    162      0.5\n15    57     150   168        0    174      1.6\n16    48     110   229        0    168      1.0\n17    54     140   239        0    160      1.2\n18    48     130   275        0    139      0.2\n19    49     130   266        0    171      0.6\n20    64     110   211        2    144      1.8\n21    58     150   283        2    162      1.0\n22    58     120   284        2    160      1.8\n23    58     132   224        2    173      3.2\n24    60     130   206        2    132      2.4\n25    50     120   219        0    158      1.6\n26    58     120   340        0    172      0.0\n27    66     150   226        0    114      2.6\n28    43     150   247        0    171      1.5\n29    40     110   167        2    114      2.0\n..   ...     ...   ...      ...    ...      ...\n271   71     112   149        0    125      1.6\n272   59     134   204        0    162      0.8\n273   64     170   227        2    155      0.6\n274   66     146   278        2    152      0.0\n275   39     138   220        0    152      0.0\n276   57     154   232        2    164      0.0\n277   58     130   197        0    131      0.6\n278   57     110   335        0    143      3.0\n279   47     130   253        0    179      0.0\n280   55     128   205        1    130      2.0\n281   35     122   192        0    174      0.0\n282   61     148   203        0    161      0.0\n283   58     114   318        1    140      4.4\n284   58     170   225        2    146      2.8\n285   58     125   220        0    144      0.4\n286   56     130   221        2    163      0.0\n287   56     120   240        0    169      0.0\n288   67     152   212        2    150      0.8\n289   55     132   342        0    166      1.2\n290   44     120   169        0    144      2.8\n291   63     140   187        2    144      4.0\n292   63     124   197        0    136      0.0\n293   41     120   157        0    182      0.0\n294   59     164   176        2     90      1.0\n295   57     140   241        0    123      0.2\n296   45     110   264        0    132      1.2\n297   68     144   193        0    141      3.4\n298   57     130   131        0    115      1.2\n299   57     130   236        2    174      0.0\n300   38     138   175        0    173      0.0\n\n[301 rows x 6 columns]\n"
     ],
     "output_type": "stream"
    }
   ],
   "source": [
    "new_df = df.drop([\"Gender\", \"ChestPain\", \"Thal\"], axis=1)\n",
    "new_df.head()\n",
    "\n",
    "# Feature matrix\n",
    "X = new_df[['Age', 'RestBP', 'Chol', 'RestECG', 'MaxHR', 'Oldpeak']]\n",
    "print(X)\n",
    "# Vector matrix\n",
    "y = new_df['AHD']"
   ],
   "metadata": {
    "collapsed": false,
    "pycharm": {
     "name": "#%%\n",
     "is_executing": false
    }
   }
  },
  {
   "cell_type": "markdown",
   "source": [
    "#### d) Split the dataset into testing and training sets with the following parameters:\n",
    "- test_size=0.25 \n",
    "- random_state=6"
   ],
   "metadata": {
    "collapsed": false,
    "pycharm": {
     "name": "#%% md\n"
    }
   }
  },
  {
   "cell_type": "code",
   "execution_count": 33,
   "outputs": [],
   "source": [
    "from sklearn.model_selection import train_test_split\n",
    "\n",
    "X_train, X_test, y_train, y_test = train_test_split(X, y, test_size=0.25, random_state=6)\n"
   ],
   "metadata": {
    "collapsed": false,
    "pycharm": {
     "name": "#%%\n",
     "is_executing": false
    }
   }
  },
  {
   "cell_type": "markdown",
   "source": [
    "#### e) Use KNN (with k=3), Decision Tree (with random_state=5), and Logistic Regression Classifiers.\n",
    "- Predict Heart Disease based on the training/testing datasets that you built\n",
    "in part (d). \n",
    "- Check, compare, and report the accuracy of these 3 classifiers. \n",
    "- Which one is the best? \n",
    "- Which one is the worst?"
   ],
   "metadata": {
    "collapsed": false,
    "pycharm": {
     "name": "#%% md\n"
    }
   }
  },
  {
   "cell_type": "code",
   "execution_count": 35,
   "outputs": [
    {
     "name": "stdout",
     "text": [
      "knn accuracy: 0.6447368421052632\ndecision tree accuracy: 0.5394736842105263\nlogistic regression accuracy: 0.6710526315789473\n"
     ],
     "output_type": "stream"
    },
    {
     "name": "stderr",
     "text": [
      "/Users/bijanfazeli/anaconda3/lib/python3.7/site-packages/sklearn/linear_model/logistic.py:432: FutureWarning: Default solver will be changed to 'lbfgs' in 0.22. Specify a solver to silence this warning.\n  FutureWarning)\n"
     ],
     "output_type": "stream"
    }
   ],
   "source": [
    "from sklearn.neighbors import KNeighborsClassifier\n",
    "from sklearn.metrics import accuracy_score\n",
    "from sklearn.tree import DecisionTreeClassifier\n",
    "from sklearn.linear_model import LogisticRegression\n",
    "\n",
    "def part_e(X_train, X_test, y_train, y_test):\n",
    "    k=3\n",
    "    knn = KNeighborsClassifier(n_neighbors=k)\n",
    "    knn.fit(X_train, y_train)\n",
    "    knn_y_predict = knn.predict(X_test)\n",
    "    knn_accuracy = accuracy_score(y_test, knn_y_predict)\n",
    "    print(f\"knn accuracy: {knn_accuracy}\")\n",
    "    \n",
    "    random_state=6\n",
    "    decision_tree = DecisionTreeClassifier(random_state=random_state)\n",
    "    decision_tree.fit(X_train, y_train)\n",
    "    decision_tree_y_predict = decision_tree.predict(X_test)\n",
    "    decision_tree_accuracy = accuracy_score(y_test, decision_tree_y_predict)\n",
    "    print(f\"decision tree accuracy: {decision_tree_accuracy}\")\n",
    "    \n",
    "    logistic_regression = LogisticRegression()\n",
    "    logistic_regression.fit(X_train, y_train)\n",
    "    logistic_regression_y_predict = logistic_regression.predict(X_test)\n",
    "    logistic_regression_accuracy = accuracy_score(y_test, logistic_regression_y_predict)\n",
    "    print(f\"logistic regression accuracy: {logistic_regression_accuracy}\")\n",
    "\n",
    "part_e(X_train, X_test, y_train, y_test)\n",
    "# Best is logistic reg and worst is decision tree classifier"
   ],
   "metadata": {
    "collapsed": false,
    "pycharm": {
     "name": "#%%\n",
     "is_executing": false
    }
   }
  },
  {
   "cell_type": "markdown",
   "source": [
    "#### f) Applying OneHotEncoding for categorical features"
   ],
   "metadata": {
    "collapsed": false,
    "pycharm": {
     "name": "#%% md\n"
    }
   }
  },
  {
   "cell_type": "code",
   "execution_count": 36,
   "outputs": [
    {
     "data": {
      "text/plain": "   Age  RestBP  Chol  RestECG  MaxHR  Oldpeak  AHD  m  f  typical  \\\n0   63     145   233        2    150      2.3   No  0  1        1   \n1   67     160   286        2    108      1.5  Yes  0  1        0   \n2   67     120   229        2    129      2.6  Yes  0  1        0   \n3   37     130   250        0    187      3.5   No  0  1        0   \n4   41     130   204        2    172      1.4   No  1  0        0   \n\n   asymptomatic  nonanginal  nontypical  fixed  normal  reversible  \n0             0           0           0      1       0           0  \n1             1           0           0      0       1           0  \n2             1           0           0      0       0           0  \n3             0           1           0      0       1           0  \n4             0           0           1      0       1           0  ",
      "text/html": "<div>\n<style scoped>\n    .dataframe tbody tr th:only-of-type {\n        vertical-align: middle;\n    }\n\n    .dataframe tbody tr th {\n        vertical-align: top;\n    }\n\n    .dataframe thead th {\n        text-align: right;\n    }\n</style>\n<table border=\"1\" class=\"dataframe\">\n  <thead>\n    <tr style=\"text-align: right;\">\n      <th></th>\n      <th>Age</th>\n      <th>RestBP</th>\n      <th>Chol</th>\n      <th>RestECG</th>\n      <th>MaxHR</th>\n      <th>Oldpeak</th>\n      <th>AHD</th>\n      <th>m</th>\n      <th>f</th>\n      <th>typical</th>\n      <th>asymptomatic</th>\n      <th>nonanginal</th>\n      <th>nontypical</th>\n      <th>fixed</th>\n      <th>normal</th>\n      <th>reversible</th>\n    </tr>\n  </thead>\n  <tbody>\n    <tr>\n      <th>0</th>\n      <td>63</td>\n      <td>145</td>\n      <td>233</td>\n      <td>2</td>\n      <td>150</td>\n      <td>2.3</td>\n      <td>No</td>\n      <td>0</td>\n      <td>1</td>\n      <td>1</td>\n      <td>0</td>\n      <td>0</td>\n      <td>0</td>\n      <td>1</td>\n      <td>0</td>\n      <td>0</td>\n    </tr>\n    <tr>\n      <th>1</th>\n      <td>67</td>\n      <td>160</td>\n      <td>286</td>\n      <td>2</td>\n      <td>108</td>\n      <td>1.5</td>\n      <td>Yes</td>\n      <td>0</td>\n      <td>1</td>\n      <td>0</td>\n      <td>1</td>\n      <td>0</td>\n      <td>0</td>\n      <td>0</td>\n      <td>1</td>\n      <td>0</td>\n    </tr>\n    <tr>\n      <th>2</th>\n      <td>67</td>\n      <td>120</td>\n      <td>229</td>\n      <td>2</td>\n      <td>129</td>\n      <td>2.6</td>\n      <td>Yes</td>\n      <td>0</td>\n      <td>1</td>\n      <td>0</td>\n      <td>1</td>\n      <td>0</td>\n      <td>0</td>\n      <td>0</td>\n      <td>0</td>\n      <td>0</td>\n    </tr>\n    <tr>\n      <th>3</th>\n      <td>37</td>\n      <td>130</td>\n      <td>250</td>\n      <td>0</td>\n      <td>187</td>\n      <td>3.5</td>\n      <td>No</td>\n      <td>0</td>\n      <td>1</td>\n      <td>0</td>\n      <td>0</td>\n      <td>1</td>\n      <td>0</td>\n      <td>0</td>\n      <td>1</td>\n      <td>0</td>\n    </tr>\n    <tr>\n      <th>4</th>\n      <td>41</td>\n      <td>130</td>\n      <td>204</td>\n      <td>2</td>\n      <td>172</td>\n      <td>1.4</td>\n      <td>No</td>\n      <td>1</td>\n      <td>0</td>\n      <td>0</td>\n      <td>0</td>\n      <td>0</td>\n      <td>1</td>\n      <td>0</td>\n      <td>1</td>\n      <td>0</td>\n    </tr>\n  </tbody>\n</table>\n</div>"
     },
     "metadata": {},
     "output_type": "execute_result",
     "execution_count": 36
    }
   ],
   "source": [
    "def one_hot_encoding(df, new_df, column, categories):\n",
    "    for category in categories:\n",
    "        new_df[category] = df[column].apply(lambda current_category: 1 if current_category == category else 0)\n",
    "    \n",
    "one_hot_encoding(df, new_df, 'Gender', ['m', 'f'])\n",
    "one_hot_encoding(df, new_df, 'ChestPain', ['typical', 'asymptomatic', 'nonanginal', 'nontypical'])\n",
    "one_hot_encoding(df, new_df, 'Thal', ['fixed', 'normal', 'reversible'])\n",
    "\n",
    "new_df.head()"
   ],
   "metadata": {
    "collapsed": false,
    "pycharm": {
     "name": "#%%%\n",
     "is_executing": false
    }
   }
  },
  {
   "cell_type": "markdown",
   "source": [
    "#### g) Repeating parts d and e with new dataset build in f."
   ],
   "metadata": {
    "collapsed": false,
    "pycharm": {
     "name": "#%% md\n"
    }
   }
  },
  {
   "cell_type": "code",
   "execution_count": 37,
   "outputs": [
    {
     "name": "stdout",
     "text": [
      "knn accuracy: 0.6447368421052632\ndecision tree accuracy: 0.7236842105263158\nlogistic regression accuracy: 0.7631578947368421\n"
     ],
     "output_type": "stream"
    },
    {
     "name": "stderr",
     "text": [
      "/Users/bijanfazeli/anaconda3/lib/python3.7/site-packages/sklearn/linear_model/logistic.py:432: FutureWarning: Default solver will be changed to 'lbfgs' in 0.22. Specify a solver to silence this warning.\n  FutureWarning)\n"
     ],
     "output_type": "stream"
    }
   ],
   "source": [
    "X = new_df[list(new_df.drop(['AHD'], axis=1).columns)]\n",
    "X_train, X_test, y_train, y_test = train_test_split(X, y, test_size=0.25, random_state=6)\n",
    "\n",
    "part_e(X_train, X_test, y_train, y_test)\n",
    "# Best is still logistic reg, while the worst one changed to knn classifier\n",
    "#   Assumption can be made that more information leads to higher accuracies for decision tree and logistic reg\n",
    "#   Surprisingly knn accuracy remained unchanged in the presence of more data"
   ],
   "metadata": {
    "collapsed": false,
    "pycharm": {
     "name": "#%%\n",
     "is_executing": false
    }
   }
  },
  {
   "cell_type": "markdown",
   "source": [
    "#### h) Repeating part E w/ cross valid\n",
    "\n"
   ],
   "metadata": {
    "collapsed": false,
    "pycharm": {
     "name": "#%% md\n"
    }
   }
  }
 ],
 "metadata": {
  "kernelspec": {
   "name": "pycharm-e7148c99",
   "language": "python",
   "display_name": "PyCharm (nlp_fun)"
  },
  "language_info": {
   "codemirror_mode": {
    "name": "ipython",
    "version": 2
   },
   "file_extension": ".py",
   "mimetype": "text/x-python",
   "name": "python",
   "nbconvert_exporter": "python",
   "pygments_lexer": "ipython2",
   "version": "2.7.6"
  },
  "pycharm": {
   "stem_cell": {
    "cell_type": "raw",
    "source": [],
    "metadata": {
     "collapsed": false
    }
   }
  }
 },
 "nbformat": 4,
 "nbformat_minor": 0
}
