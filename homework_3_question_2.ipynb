{
 "cells": [
  {
   "cell_type": "markdown",
   "metadata": {
    "collapsed": true,
    "pycharm": {
     "name": "#%% md\n"
    }
   },
   "source": [
    "### Debt Prediction"
   ]
  },
  {
   "cell_type": "markdown",
   "source": [
    "#### a) Read dataset into pandas dataframe"
   ],
   "metadata": {
    "collapsed": false,
    "pycharm": {
     "name": "#%% md\n"
    }
   }
  },
  {
   "cell_type": "code",
   "execution_count": 2,
   "outputs": [],
   "source": [
    "import pandas as pd\n",
    "df = pd.read_csv(\"https://github.com/mpourhoma/cs4661/raw/master/Credit.csv\")"
   ],
   "metadata": {
    "collapsed": false,
    "pycharm": {
     "name": "#%%\n",
     "is_executing": false
    }
   }
  },
  {
   "cell_type": "markdown",
   "source": [
    "#### b) Check out the dataframe"
   ],
   "metadata": {
    "collapsed": false,
    "pycharm": {
     "name": "#%% md\n"
    }
   }
  },
  {
   "cell_type": "code",
   "execution_count": 3,
   "outputs": [
    {
     "data": {
      "text/plain": "    Income  Limit  Rating  Cards  Age  Education  Married  Balance\n0   14.891   3606     283      2   34         11        1      333\n1  106.025   6645     483      3   82         15        1      903\n2  104.593   7075     514      4   71         11        0      580\n3  148.924   9504     681      3   36         11        0      964\n4   55.882   4897     357      2   68         16        1      331",
      "text/html": "<div>\n<style scoped>\n    .dataframe tbody tr th:only-of-type {\n        vertical-align: middle;\n    }\n\n    .dataframe tbody tr th {\n        vertical-align: top;\n    }\n\n    .dataframe thead th {\n        text-align: right;\n    }\n</style>\n<table border=\"1\" class=\"dataframe\">\n  <thead>\n    <tr style=\"text-align: right;\">\n      <th></th>\n      <th>Income</th>\n      <th>Limit</th>\n      <th>Rating</th>\n      <th>Cards</th>\n      <th>Age</th>\n      <th>Education</th>\n      <th>Married</th>\n      <th>Balance</th>\n    </tr>\n  </thead>\n  <tbody>\n    <tr>\n      <th>0</th>\n      <td>14.891</td>\n      <td>3606</td>\n      <td>283</td>\n      <td>2</td>\n      <td>34</td>\n      <td>11</td>\n      <td>1</td>\n      <td>333</td>\n    </tr>\n    <tr>\n      <th>1</th>\n      <td>106.025</td>\n      <td>6645</td>\n      <td>483</td>\n      <td>3</td>\n      <td>82</td>\n      <td>15</td>\n      <td>1</td>\n      <td>903</td>\n    </tr>\n    <tr>\n      <th>2</th>\n      <td>104.593</td>\n      <td>7075</td>\n      <td>514</td>\n      <td>4</td>\n      <td>71</td>\n      <td>11</td>\n      <td>0</td>\n      <td>580</td>\n    </tr>\n    <tr>\n      <th>3</th>\n      <td>148.924</td>\n      <td>9504</td>\n      <td>681</td>\n      <td>3</td>\n      <td>36</td>\n      <td>11</td>\n      <td>0</td>\n      <td>964</td>\n    </tr>\n    <tr>\n      <th>4</th>\n      <td>55.882</td>\n      <td>4897</td>\n      <td>357</td>\n      <td>2</td>\n      <td>68</td>\n      <td>16</td>\n      <td>1</td>\n      <td>331</td>\n    </tr>\n  </tbody>\n</table>\n</div>"
     },
     "metadata": {},
     "output_type": "execute_result",
     "execution_count": 3
    }
   ],
   "source": [
    "df.head()"
   ],
   "metadata": {
    "collapsed": false,
    "pycharm": {
     "name": "#%%\n",
     "is_executing": false
    }
   }
  },
  {
   "cell_type": "markdown",
   "source": [
    "#### c) Generate feature matrix and target vector, normalize the feature matrix"
   ],
   "metadata": {
    "collapsed": false,
    "pycharm": {
     "name": "#%% md\n"
    }
   }
  },
  {
   "cell_type": "code",
   "execution_count": 11,
   "outputs": [
    {
     "name": "stdout",
     "text": [
      "[[-0.86158299 -0.48999879 -0.46553881 ... -1.2576741  -0.78492991\n   0.79539491]\n [ 1.72743711  0.82826106  0.82870309 ...  1.5284506   0.49658831\n   0.79539491]\n [ 1.68675551  1.01478681  1.02931059 ...  0.88996369 -0.78492991\n  -1.25723711]\n ...\n [ 0.35946155 -0.24491264 -0.21963285 ...  0.65778663 -0.46455035\n   0.79539491]\n [-0.21280808 -0.95891584 -1.05441888 ... -0.67723146 -0.1441708\n   0.79539491]\n [-0.75334493  0.34199278  0.38866085 ...  0.48365384 -2.06644812\n  -1.25723711]]\n0       333\n1       903\n2       580\n3       964\n4       331\n5      1151\n6       203\n7       872\n8       279\n9      1350\n10     1407\n11        0\n12      204\n13     1081\n14      148\n15        0\n16        0\n17      368\n18      891\n19     1048\n20       89\n21      968\n22        0\n23      411\n24        0\n25      671\n26      654\n27      467\n28     1809\n29      915\n       ... \n370     992\n371       0\n372     840\n373    1003\n374     588\n375    1000\n376     767\n377       0\n378     717\n379       0\n380     661\n381     849\n382    1352\n383     382\n384       0\n385     905\n386     371\n387       0\n388    1129\n389     806\n390    1393\n391     721\n392       0\n393       0\n394     734\n395     560\n396     480\n397     138\n398       0\n399     966\nName: Balance, Length: 400, dtype: int64\n"
     ],
     "output_type": "stream"
    }
   ],
   "source": [
    "import sklearn.preprocessing as pre_processor\n",
    "\n",
    "X = pre_processor.scale(df[list(df.drop(['Balance'], axis=1).columns)])\n",
    "print(X)\n",
    "\n",
    "y = df['Balance']\n",
    "print(y)\n"
   ],
   "metadata": {
    "collapsed": false,
    "pycharm": {
     "name": "#%%\n",
     "is_executing": false
    }
   }
  },
  {
   "cell_type": "markdown",
   "source": [
    "#### d) Split data set into testing and training sets with the following parameters:\n",
    "- test_size=0.24\n",
    "- random_state=9"
   ],
   "metadata": {
    "collapsed": false,
    "pycharm": {
     "name": "#%% md\n"
    }
   }
  },
  {
   "cell_type": "code",
   "execution_count": 12,
   "outputs": [],
   "source": [
    "from sklearn.model_selection import train_test_split\n",
    "X_train, X_test, y_train, y_test = train_test_split(X, y, train_size=0.24, random_state=9)\n"
   ],
   "metadata": {
    "collapsed": false,
    "pycharm": {
     "name": "#%%\n",
     "is_executing": false
    }
   }
  },
  {
   "cell_type": "code",
   "execution_count": null,
   "outputs": [],
   "source": [],
   "metadata": {
    "collapsed": false,
    "pycharm": {
     "name": "#%%\n"
    }
   }
  }
 ],
 "metadata": {
  "kernelspec": {
   "name": "pycharm-e7148c99",
   "language": "python",
   "display_name": "PyCharm (nlp_fun)"
  },
  "language_info": {
   "codemirror_mode": {
    "name": "ipython",
    "version": 2
   },
   "file_extension": ".py",
   "mimetype": "text/x-python",
   "name": "python",
   "nbconvert_exporter": "python",
   "pygments_lexer": "ipython2",
   "version": "2.7.6"
  },
  "pycharm": {
   "stem_cell": {
    "cell_type": "raw",
    "source": [],
    "metadata": {
     "collapsed": false
    }
   }
  }
 },
 "nbformat": 4,
 "nbformat_minor": 0
}
