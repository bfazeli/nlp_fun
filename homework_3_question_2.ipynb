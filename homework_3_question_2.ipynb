{
 "cells": [
  {
   "cell_type": "markdown",
   "metadata": {
    "collapsed": true,
    "pycharm": {
     "name": "#%% md\n"
    }
   },
   "source": [
    "### Debt Prediction"
   ]
  },
  {
   "cell_type": "markdown",
   "source": [
    "#### a) Read dataset into pandas dataframe"
   ],
   "metadata": {
    "collapsed": false,
    "pycharm": {
     "name": "#%% md\n"
    }
   }
  },
  {
   "cell_type": "code",
   "execution_count": 26,
   "outputs": [],
   "source": [
    "import pandas as pd\n",
    "df = pd.read_csv(\"https://github.com/mpourhoma/cs4661/raw/master/Credit.csv\")"
   ],
   "metadata": {
    "collapsed": false,
    "pycharm": {
     "name": "#%%\n",
     "is_executing": false
    }
   }
  },
  {
   "cell_type": "markdown",
   "source": [
    "#### b) Check out the dataframe"
   ],
   "metadata": {
    "collapsed": false,
    "pycharm": {
     "name": "#%% md\n"
    }
   }
  },
  {
   "cell_type": "code",
   "execution_count": 27,
   "outputs": [
    {
     "data": {
      "text/plain": "    Income  Limit  Rating  Cards  Age  Education  Married  Balance\n0   14.891   3606     283      2   34         11        1      333\n1  106.025   6645     483      3   82         15        1      903\n2  104.593   7075     514      4   71         11        0      580\n3  148.924   9504     681      3   36         11        0      964\n4   55.882   4897     357      2   68         16        1      331",
      "text/html": "<div>\n<style scoped>\n    .dataframe tbody tr th:only-of-type {\n        vertical-align: middle;\n    }\n\n    .dataframe tbody tr th {\n        vertical-align: top;\n    }\n\n    .dataframe thead th {\n        text-align: right;\n    }\n</style>\n<table border=\"1\" class=\"dataframe\">\n  <thead>\n    <tr style=\"text-align: right;\">\n      <th></th>\n      <th>Income</th>\n      <th>Limit</th>\n      <th>Rating</th>\n      <th>Cards</th>\n      <th>Age</th>\n      <th>Education</th>\n      <th>Married</th>\n      <th>Balance</th>\n    </tr>\n  </thead>\n  <tbody>\n    <tr>\n      <th>0</th>\n      <td>14.891</td>\n      <td>3606</td>\n      <td>283</td>\n      <td>2</td>\n      <td>34</td>\n      <td>11</td>\n      <td>1</td>\n      <td>333</td>\n    </tr>\n    <tr>\n      <th>1</th>\n      <td>106.025</td>\n      <td>6645</td>\n      <td>483</td>\n      <td>3</td>\n      <td>82</td>\n      <td>15</td>\n      <td>1</td>\n      <td>903</td>\n    </tr>\n    <tr>\n      <th>2</th>\n      <td>104.593</td>\n      <td>7075</td>\n      <td>514</td>\n      <td>4</td>\n      <td>71</td>\n      <td>11</td>\n      <td>0</td>\n      <td>580</td>\n    </tr>\n    <tr>\n      <th>3</th>\n      <td>148.924</td>\n      <td>9504</td>\n      <td>681</td>\n      <td>3</td>\n      <td>36</td>\n      <td>11</td>\n      <td>0</td>\n      <td>964</td>\n    </tr>\n    <tr>\n      <th>4</th>\n      <td>55.882</td>\n      <td>4897</td>\n      <td>357</td>\n      <td>2</td>\n      <td>68</td>\n      <td>16</td>\n      <td>1</td>\n      <td>331</td>\n    </tr>\n  </tbody>\n</table>\n</div>"
     },
     "metadata": {},
     "output_type": "execute_result",
     "execution_count": 27
    }
   ],
   "source": [
    "df.head()"
   ],
   "metadata": {
    "collapsed": false,
    "pycharm": {
     "name": "#%%\n",
     "is_executing": false
    }
   }
  },
  {
   "cell_type": "markdown",
   "source": [
    "#### c) Generate feature matrix and target vector, normalize the feature matrix"
   ],
   "metadata": {
    "collapsed": false,
    "pycharm": {
     "name": "#%% md\n"
    }
   }
  },
  {
   "cell_type": "code",
   "execution_count": 28,
   "outputs": [
    {
     "name": "stdout",
     "text": [
      "[[-0.86158299 -0.48999879 -0.46553881 ... -1.2576741  -0.78492991\n   0.79539491]\n [ 1.72743711  0.82826106  0.82870309 ...  1.5284506   0.49658831\n   0.79539491]\n [ 1.68675551  1.01478681  1.02931059 ...  0.88996369 -0.78492991\n  -1.25723711]\n ...\n [ 0.35946155 -0.24491264 -0.21963285 ...  0.65778663 -0.46455035\n   0.79539491]\n [-0.21280808 -0.95891584 -1.05441888 ... -0.67723146 -0.1441708\n   0.79539491]\n [-0.75334493  0.34199278  0.38866085 ...  0.48365384 -2.06644812\n  -1.25723711]]\n0       333\n1       903\n2       580\n3       964\n4       331\n5      1151\n6       203\n7       872\n8       279\n9      1350\n10     1407\n11        0\n12      204\n13     1081\n14      148\n15        0\n16        0\n17      368\n18      891\n19     1048\n20       89\n21      968\n22        0\n23      411\n24        0\n25      671\n26      654\n27      467\n28     1809\n29      915\n       ... \n370     992\n371       0\n372     840\n373    1003\n374     588\n375    1000\n376     767\n377       0\n378     717\n379       0\n380     661\n381     849\n382    1352\n383     382\n384       0\n385     905\n386     371\n387       0\n388    1129\n389     806\n390    1393\n391     721\n392       0\n393       0\n394     734\n395     560\n396     480\n397     138\n398       0\n399     966\nName: Balance, Length: 400, dtype: int64\n"
     ],
     "output_type": "stream"
    }
   ],
   "source": [
    "import sklearn.preprocessing as pre_processor\n",
    "X = df[list(df.drop(['Balance'], axis=1).columns)]\n",
    "X = pre_processor.scale(X)\n",
    "\n",
    "print(X)\n",
    "\n",
    "y = df['Balance']\n",
    "print(y)\n"
   ],
   "metadata": {
    "collapsed": false,
    "pycharm": {
     "name": "#%%\n",
     "is_executing": false
    }
   }
  },
  {
   "cell_type": "markdown",
   "source": [
    "#### d) Split data set into testing and training sets with the following parameters:\n",
    "- test_size=0.24\n",
    "- random_state=9"
   ],
   "metadata": {
    "collapsed": false,
    "pycharm": {
     "name": "#%% md\n"
    }
   }
  },
  {
   "cell_type": "code",
   "execution_count": 29,
   "outputs": [],
   "source": [
    "from sklearn.model_selection import train_test_split\n",
    "X_train, X_test, y_train, y_test = train_test_split(X, y, train_size=0.24, random_state=9)\n"
   ],
   "metadata": {
    "collapsed": false,
    "pycharm": {
     "name": "#%%\n",
     "is_executing": false
    }
   }
  },
  {
   "cell_type": "markdown",
   "source": [
    "#### e) Train linear model on training set using linear regression\n",
    "- Check coefficients\n",
    "- Which feature is the most important?\n",
    "- Which feature is least important?"
   ],
   "metadata": {
    "collapsed": false,
    "pycharm": {
     "name": "#%% md\n"
    }
   }
  },
  {
   "cell_type": "code",
   "execution_count": 30,
   "outputs": [
    {
     "name": "stdout",
     "text": [
      "532.2638917311483\n[('Income', -283.363121844603), ('Limit', 230.16428735859856), ('Rating', 409.0195946570877), ('Cards', -5.857147900534257), ('Age', -7.789636009613738), ('Education', 31.201276157397665), ('Married', -25.812396541416994)]\n"
     ],
     "output_type": "stream"
    }
   ],
   "source": [
    "from sklearn.linear_model import LinearRegression\n",
    "\n",
    "linear_regression = LinearRegression()\n",
    "linear_regression.fit(X_train, y_train)\n",
    "\n",
    "# Printing theta 0\n",
    "print(linear_regression.intercept_)\n",
    "# Printing the coefficients \n",
    "print(list(zip(list(df.drop(['Balance'], axis=1).columns), linear_regression.coef_)))\n",
    "# This tells us that Rating has the most sig impact for every +/-1 rating has a 400 fold impact\n",
    "# Whereas the amount of Cards is the least sig impact on predicting debt"
   ],
   "metadata": {
    "collapsed": false,
    "pycharm": {
     "name": "#%%\n",
     "is_executing": false
    }
   }
  },
  {
   "cell_type": "markdown",
   "source": [
    "#### f) Predicting balance for users in testing set\n",
    "- Compare the balance with the actual balance by cal and reporting the RMSE"
   ],
   "metadata": {
    "collapsed": false,
    "pycharm": {
     "name": "#%% md\n"
    }
   }
  },
  {
   "cell_type": "code",
   "execution_count": 31,
   "outputs": [
    {
     "name": "stdout",
     "text": [
      "[ 2.94819820e+02  7.12080730e+02  5.13342785e+02 -4.74492413e+01\n  7.05446039e+02  8.63997768e+02  9.61184537e+02  1.62010505e+02\n -2.13074953e+02  8.63732086e+02  3.82193495e+01 -2.67920861e+02\n  4.73537525e+02 -1.47563416e+01 -2.22751289e+02  9.77660223e+02\n  8.90798146e+02  8.34387370e+02  7.25560422e+01  8.80196421e+02\n  1.04471552e+03  7.67729379e+02  1.25213282e+03  7.20174819e+02\n  7.45742288e+02  6.93416280e+02  5.94486550e+02 -8.93760512e+01\n  5.93967073e+02  4.16055842e+02  8.88468441e+02  8.74532173e+02\n  6.08560565e+01  9.44241094e+02 -2.15800917e+02  5.24585973e+02\n  1.04868990e+03  4.58821682e+02  9.79281480e+01 -1.29014116e+02\n  5.20697865e+02  1.18206831e+03  3.66927260e+02  3.56121239e+02\n  8.16774926e+01  7.27380768e+02  4.02884591e+02  1.33679997e+03\n  5.44286498e+02  1.24684319e+02 -2.14822101e+02  5.28877744e+00\n  3.18689224e+02  8.73760344e+02  8.78664863e+02  1.05845857e+03\n  1.53315645e+03  1.13145189e+03  7.17927140e+02  1.08378986e+03\n -6.71102932e+01  5.07504878e+02  1.12037944e+02  4.71470397e+02\n  3.62115057e+02  1.12236744e+03  2.23012970e+02  7.82701039e+02\n  3.13333343e+02  3.86013643e+02  3.12208633e+02  1.03103276e+03\n  1.10131393e+03  9.98013908e+02  9.40499469e+02  1.23193097e+02\n  5.85013314e+02  7.89061493e+02  4.39386003e+01  5.73854604e+02\n  1.12401819e+03  4.18368363e+02  2.08437446e+02  4.64900985e+02\n  2.03188594e+02  9.38892400e+02  9.27481665e+02 -8.34902197e+00\n  1.55434571e+03  6.37690940e+02  6.89914328e+02  6.75149025e+02\n  2.35316842e+02 -2.10236991e+02 -9.24573328e+01 -1.52619502e+02\n  1.37343672e+03 -2.33038470e+02  4.27483517e+02 -9.12998467e+01\n -2.18468536e+02 -2.07675891e+02  2.99236269e+02 -9.15166380e+01\n  1.01705693e+03  9.33770943e+02  9.35754842e+02 -1.81506746e+02\n  3.17703451e+02 -8.40597652e+01  9.16178761e+02  3.47614378e+02\n  7.91935071e+02  1.15619999e+02  3.58819959e+02  5.00062451e+01\n  1.29811636e+03  6.40374203e+02  5.44148480e+02  1.40040174e+03\n -2.65538901e+01  1.24179040e+03  1.36385755e+02 -1.23577270e+02\n  9.52327663e+02  2.77135166e+02  1.09511580e+03  6.10154853e+02\n  2.27903227e+02  6.04113907e+02  3.20380606e+02  5.83645904e+02\n  8.83946480e+02  3.80303540e+02  2.82513606e+02  7.62462604e+02\n -7.08027150e+01  6.77942032e+02  1.04540673e+03  4.71884978e+02\n  5.79755730e+02  9.61627003e+02 -1.43458916e+02  2.80043734e+02\n  1.24193209e+03  8.33095795e+02  5.93665367e+02 -1.00586619e+02\n  3.36802374e+02  4.19342881e+02  1.99268027e+03  6.57928702e+02\n  3.87186042e+02 -1.59019407e+02  1.23479841e+03  7.40077008e+02\n  3.44448680e+02  5.07766662e+02  6.32443989e+02  1.15752156e+03\n -1.32922059e+02  5.76941124e+02  4.54186610e+02  9.57293325e+02\n -7.48783330e+01  5.94045698e+02  5.31609691e+02  1.25569632e+03\n -9.96462959e+01  8.13284522e+02  5.98058856e+02  3.85074849e+02\n  8.43867806e+02  3.87279830e+02  5.69853466e+02  9.07811691e+01\n  1.04038262e+03  9.72976521e+02  5.56554503e+02  7.29472138e+02\n  9.84209897e+02  9.69035656e+02  5.65158361e+02  1.86101199e+02\n  1.35779256e+01  2.84409790e+02 -1.93802835e+02  1.13188482e+03\n  7.36604712e+02  7.31672096e+02  2.79189227e+02  8.84212713e+02\n  9.12286673e+02  5.74941775e+02  1.50162439e+02  6.95849194e+02\n  8.10296878e+02  7.27950997e+02  1.13014236e+03  1.48355706e+01\n  3.77921430e+02  6.91742919e+02  4.10325657e+02  1.07696045e+03\n  3.69267787e+02  6.21406026e+02  1.05321880e+03  9.80708220e+02\n  4.32613483e+02  6.46214552e+01  7.52111522e+02  8.91354956e+02\n  1.87277386e+02  3.43989138e+02  1.82051644e+02  9.52513407e+02\n  6.06005143e+01  8.33956475e+02  5.63938994e+02  5.82078169e+02\n  8.55252103e+02  5.44977011e+02  5.37492438e+02  3.24511888e+02\n  1.06387574e+03  1.61248390e+03  5.54838330e+02  2.91363573e+02\n  1.34946708e+02  3.05377365e+02  4.71454425e+02 -1.55232538e+02\n  7.01769755e+02  9.96406488e+02  9.81259121e+01  9.98131983e+02\n  6.51013279e+02  2.04017379e+02  7.28471897e+02  1.62141290e+03\n  1.36279494e+03  1.91933659e+02 -1.98959209e+00  3.78086219e+02\n -2.73976439e+02  4.90090068e+02 -4.06030370e+01  7.81746771e+02\n  9.59052946e+02  1.33759813e+03  8.70655446e+02  1.54520477e+02\n  5.51492962e+02  8.01360449e+02 -8.33296584e+01  1.82840687e+03\n  7.81434174e+02  4.49275202e+02  1.94066651e+02 -8.65515744e+01\n  7.23845211e+02  1.01042142e+03  9.70001398e+02 -8.69644117e+01\n  8.96142905e+02  9.11323333e+02 -2.71359980e+02  9.56290481e+02\n  4.51586790e+02 -1.95149687e+02  3.66097352e+02  1.07198693e+03\n  3.79885368e+02  6.58520657e+02  1.39650187e+03  2.61602141e+02\n  1.34069127e+03 -1.78984753e+02  3.51811090e+01  5.10005935e+02\n  7.90837121e+02  9.76203011e+02  9.96927876e+02 -5.88657062e+01\n  6.88124082e+02  1.21649125e+03  9.41288048e+02  1.11119839e+03\n  6.08980635e+02  1.70917372e+02 -2.04979890e+02  6.98922631e+02\n  4.42079882e+02  2.01979364e+02  9.34736365e+02  1.01987904e+03\n  6.11530683e+02  6.06186115e+02  6.03715780e+02 -1.27732131e+02\n  9.20171865e+02  8.67161495e+02  2.02977393e+02 -2.63348279e+02]\n156.58334528470127\n"
     ],
     "output_type": "stream"
    }
   ],
   "source": [
    "from sklearn import metrics\n",
    "import numpy as np\n",
    "y_prediction = linear_regression.predict(X_test)\n",
    "print(y_prediction)\n",
    "\n",
    "mse = metrics.mean_squared_error(y_test, y_prediction)\n",
    "rmse = np.sqrt(mse)\n",
    "print(rmse)"
   ],
   "metadata": {
    "collapsed": false,
    "pycharm": {
     "name": "#%%\n",
     "is_executing": false
    }
   }
  },
  {
   "cell_type": "code",
   "execution_count": 33,
   "outputs": [
    {
     "name": "stdout",
     "text": [
      "163.2743679627569\n"
     ],
     "output_type": "stream"
    },
    {
     "name": "stderr",
     "text": [
      "/Users/bijanfazeli/anaconda3/lib/python3.7/site-packages/sklearn/model_selection/_split.py:1978: FutureWarning: The default value of cv will change from 3 to 5 in version 0.22. Specify it explicitly to silence this warning.\n  warnings.warn(CV_WARNING, FutureWarning)\n"
     ],
     "output_type": "stream"
    }
   ],
   "source": [
    "from sklearn.model_selection import cross_val_score\n",
    "mse_list = cross_val_score(LinearRegression(), X, y, scoring='neg_mean_squared_error')\n",
    "print(np.sqrt(-mse_list).mean())"
   ],
   "metadata": {
    "collapsed": false,
    "pycharm": {
     "name": "#%%\n",
     "is_executing": false
    }
   }
  },
  {
   "cell_type": "code",
   "execution_count": null,
   "outputs": [],
   "source": [
    "\n"
   ],
   "metadata": {
    "collapsed": false,
    "pycharm": {
     "name": "#%%\n"
    }
   }
  }
 ],
 "metadata": {
  "kernelspec": {
   "name": "pycharm-e7148c99",
   "language": "python",
   "display_name": "PyCharm (nlp_fun)"
  },
  "language_info": {
   "codemirror_mode": {
    "name": "ipython",
    "version": 2
   },
   "file_extension": ".py",
   "mimetype": "text/x-python",
   "name": "python",
   "nbconvert_exporter": "python",
   "pygments_lexer": "ipython2",
   "version": "2.7.6"
  },
  "pycharm": {
   "stem_cell": {
    "cell_type": "raw",
    "source": [],
    "metadata": {
     "collapsed": false
    }
   }
  }
 },
 "nbformat": 4,
 "nbformat_minor": 0
}
