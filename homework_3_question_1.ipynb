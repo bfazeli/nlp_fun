{
 "cells": [
  {
   "cell_type": "markdown",
   "source": [
    "### Pridicting Heart Disease"
   ],
   "metadata": {
    "collapsed": false
   }
  },
  {
   "cell_type": "markdown",
   "source": [
    "#### a) Read data file into a pandas DF "
   ],
   "metadata": {
    "collapsed": false,
    "pycharm": {
     "name": "#%% md\n"
    }
   }
  },
  {
   "cell_type": "code",
   "execution_count": 1,
   "outputs": [],
   "source": [
    "import pandas as pd\n",
    "\n",
    "df = pd.read_csv(\"https://github.com/mpourhoma/CS4661/raw/master/Heart_s.csv\")"
   ],
   "metadata": {
    "collapsed": false,
    "pycharm": {
     "name": "#%%\n",
     "is_executing": false
    }
   }
  },
  {
   "cell_type": "markdown",
   "source": [
    "#### b) Checking out data set"
   ],
   "metadata": {
    "collapsed": false,
    "pycharm": {
     "name": "#%% md\n"
    }
   }
  },
  {
   "cell_type": "code",
   "execution_count": 2,
   "outputs": [
    {
     "data": {
      "text/plain": "   Age Gender     ChestPain  RestBP  Chol  RestECG  MaxHR  Oldpeak  \\\n0   63      f       typical     145   233        2    150      2.3   \n1   67      f  asymptomatic     160   286        2    108      1.5   \n2   67      f  asymptomatic     120   229        2    129      2.6   \n3   37      f    nonanginal     130   250        0    187      3.5   \n4   41      m    nontypical     130   204        2    172      1.4   \n\n         Thal  AHD  \n0       fixed   No  \n1      normal  Yes  \n2  reversable  Yes  \n3      normal   No  \n4      normal   No  ",
      "text/html": "<div>\n<style scoped>\n    .dataframe tbody tr th:only-of-type {\n        vertical-align: middle;\n    }\n\n    .dataframe tbody tr th {\n        vertical-align: top;\n    }\n\n    .dataframe thead th {\n        text-align: right;\n    }\n</style>\n<table border=\"1\" class=\"dataframe\">\n  <thead>\n    <tr style=\"text-align: right;\">\n      <th></th>\n      <th>Age</th>\n      <th>Gender</th>\n      <th>ChestPain</th>\n      <th>RestBP</th>\n      <th>Chol</th>\n      <th>RestECG</th>\n      <th>MaxHR</th>\n      <th>Oldpeak</th>\n      <th>Thal</th>\n      <th>AHD</th>\n    </tr>\n  </thead>\n  <tbody>\n    <tr>\n      <th>0</th>\n      <td>63</td>\n      <td>f</td>\n      <td>typical</td>\n      <td>145</td>\n      <td>233</td>\n      <td>2</td>\n      <td>150</td>\n      <td>2.3</td>\n      <td>fixed</td>\n      <td>No</td>\n    </tr>\n    <tr>\n      <th>1</th>\n      <td>67</td>\n      <td>f</td>\n      <td>asymptomatic</td>\n      <td>160</td>\n      <td>286</td>\n      <td>2</td>\n      <td>108</td>\n      <td>1.5</td>\n      <td>normal</td>\n      <td>Yes</td>\n    </tr>\n    <tr>\n      <th>2</th>\n      <td>67</td>\n      <td>f</td>\n      <td>asymptomatic</td>\n      <td>120</td>\n      <td>229</td>\n      <td>2</td>\n      <td>129</td>\n      <td>2.6</td>\n      <td>reversable</td>\n      <td>Yes</td>\n    </tr>\n    <tr>\n      <th>3</th>\n      <td>37</td>\n      <td>f</td>\n      <td>nonanginal</td>\n      <td>130</td>\n      <td>250</td>\n      <td>0</td>\n      <td>187</td>\n      <td>3.5</td>\n      <td>normal</td>\n      <td>No</td>\n    </tr>\n    <tr>\n      <th>4</th>\n      <td>41</td>\n      <td>m</td>\n      <td>nontypical</td>\n      <td>130</td>\n      <td>204</td>\n      <td>2</td>\n      <td>172</td>\n      <td>1.4</td>\n      <td>normal</td>\n      <td>No</td>\n    </tr>\n  </tbody>\n</table>\n</div>"
     },
     "metadata": {},
     "output_type": "execute_result",
     "execution_count": 2
    }
   ],
   "source": [
    "df.head()"
   ],
   "metadata": {
    "collapsed": false,
    "pycharm": {
     "name": "#%%\n",
     "is_executing": false
    }
   }
  },
  {
   "cell_type": "markdown",
   "source": [
    "#### c) Ignore the categorical data and build feature + vector matrix"
   ],
   "metadata": {
    "collapsed": false,
    "pycharm": {
     "name": "#%% md\n"
    }
   }
  },
  {
   "cell_type": "code",
   "execution_count": 3,
   "outputs": [],
   "source": [
    "new_df = df.drop([\"Gender\", \"ChestPain\", \"Thal\"], axis=1)\n",
    "new_df.head()\n",
    "\n",
    "# Feature matrix\n",
    "X = new_df[['Age', 'RestBP', 'Chol', 'RestECG', 'MaxHR', 'Oldpeak']]\n",
    "# Vector matrix\n",
    "y = new_df['AHD']"
   ],
   "metadata": {
    "collapsed": false,
    "pycharm": {
     "name": "#%%\n",
     "is_executing": false
    }
   }
  },
  {
   "cell_type": "markdown",
   "source": [
    "#### d) Split the dataset into testing and training sets with the following parameters:\n",
    "- test_size=0.25 \n",
    "- random_state=6"
   ],
   "metadata": {
    "collapsed": false,
    "pycharm": {
     "name": "#%% md\n"
    }
   }
  },
  {
   "cell_type": "code",
   "execution_count": 4,
   "outputs": [],
   "source": [
    "from sklearn.model_selection import train_test_split\n",
    "\n",
    "X_train, X_test, y_train, y_test = train_test_split(X, y, test_size=0.25, random_state=6)\n"
   ],
   "metadata": {
    "collapsed": false,
    "pycharm": {
     "name": "#%%\n",
     "is_executing": false
    }
   }
  },
  {
   "cell_type": "markdown",
   "source": [
    "#### Use KNN (with k=3), Decision Tree (with random_state=5), and Logistic Regression Classifiers.\n",
    "- Predict Heart Disease based on the training/testing datasets that you built\n",
    "in part (d). \n",
    "- Check, compare, and report the accuracy of these 3 classifiers. \n",
    "- Which one is the best? \n",
    "- Which one is the worst?"
   ],
   "metadata": {
    "collapsed": false,
    "pycharm": {
     "name": "#%% md\n"
    }
   }
  },
  {
   "cell_type": "code",
   "execution_count": 9,
   "outputs": [
    {
     "name": "stdout",
     "text": [
      "knn accuracy: 0.6447368421052632\ndecision tree accuracy: 0.5394736842105263\nlogistic regression accuracy: 0.6710526315789473\n"
     ],
     "output_type": "stream"
    },
    {
     "name": "stderr",
     "text": [
      "/Users/bijanfazeli/anaconda3/lib/python3.7/site-packages/sklearn/linear_model/logistic.py:432: FutureWarning: Default solver will be changed to 'lbfgs' in 0.22. Specify a solver to silence this warning.\n  FutureWarning)\n"
     ],
     "output_type": "stream"
    }
   ],
   "source": [
    "from sklearn.neighbors import KNeighborsClassifier\n",
    "from sklearn.metrics import accuracy_score\n",
    "from sklearn.tree import DecisionTreeClassifier\n",
    "from sklearn.linear_model import LogisticRegression\n",
    "\n",
    "k=3\n",
    "knn = KNeighborsClassifier(n_neighbors=k)\n",
    "knn.fit(X_train, y_train)\n",
    "knn_y_predict = knn.predict(X_test)\n",
    "knn_accuracy = accuracy_score(y_test, knn_y_predict)\n",
    "print(f\"knn accuracy: {knn_accuracy}\")\n",
    "\n",
    "random_state=6\n",
    "decision_tree = DecisionTreeClassifier(random_state=random_state)\n",
    "decision_tree.fit(X_train, y_train)\n",
    "decision_tree_y_predict = decision_tree.predict(X_test)\n",
    "decision_tree_accuracy = accuracy_score(y_test, decision_tree_y_predict)\n",
    "print(f\"decision tree accuracy: {decision_tree_accuracy}\")\n",
    "\n",
    "logistic_regression = LogisticRegression()\n",
    "logistic_regression.fit(X_train, y_train)\n",
    "logistic_regression_y_predict = logistic_regression.predict(X_test)\n",
    "logistic_regression_accuracy = accuracy_score(y_test, logistic_regression_y_predict)\n",
    "print(f\"logistic regression accuracy: {logistic_regression_accuracy}\")\n"
   ],
   "metadata": {
    "collapsed": false,
    "pycharm": {
     "name": "#%%\n",
     "is_executing": false
    }
   }
  }
 ],
 "metadata": {
  "kernelspec": {
   "name": "pycharm-e7148c99",
   "language": "python",
   "display_name": "PyCharm (nlp_fun)"
  },
  "language_info": {
   "codemirror_mode": {
    "name": "ipython",
    "version": 2
   },
   "file_extension": ".py",
   "mimetype": "text/x-python",
   "name": "python",
   "nbconvert_exporter": "python",
   "pygments_lexer": "ipython2",
   "version": "2.7.6"
  },
  "pycharm": {
   "stem_cell": {
    "cell_type": "raw",
    "source": [],
    "metadata": {
     "collapsed": false
    }
   }
  }
 },
 "nbformat": 4,
 "nbformat_minor": 0
}
